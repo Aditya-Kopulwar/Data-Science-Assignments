{
  "nbformat": 4,
  "nbformat_minor": 0,
  "metadata": {
    "colab": {
      "provenance": [],
      "include_colab_link": true
    },
    "kernelspec": {
      "name": "python3",
      "display_name": "Python 3"
    },
    "language_info": {
      "name": "python"
    }
  },
  "cells": [
    {
      "cell_type": "markdown",
      "metadata": {
        "id": "view-in-github",
        "colab_type": "text"
      },
      "source": [
        "<a href=\"https://colab.research.google.com/github/Aditya-Kopulwar/Data-Science-Assignments/blob/main/Assignment_02_Basic%20Statistics_Level_2/Code/Set%2B2_Normal%2BDistribution%2BFunctions%2Bof%2Brandom%2Bvariables%2B(1).ipynb\" target=\"_parent\"><img src=\"https://colab.research.google.com/assets/colab-badge.svg\" alt=\"Open In Colab\"/></a>"
      ]
    },
    {
      "cell_type": "code",
      "execution_count": 1,
      "metadata": {
        "id": "4SozYb1q0iJ9"
      },
      "outputs": [],
      "source": [
        "from scipy import stats as st"
      ]
    },
    {
      "cell_type": "markdown",
      "source": [
        "# **1. The time required for servicing transmissions is normally distributed with m = 45 minutes and s = 8 minutes. The service manager plans to have work begin on the transmission of a customer’s car 10 minutes after the car is dropped off and the customer is told that the car will be ready within 1 hour from drop-off. What is the probability that the service manager cannot meet his commitment?**\n",
        "\n",
        "- A. 0.3875\n",
        "\n",
        "- B. 0.2676\n",
        "\n",
        "- C. 0.5\n",
        "\n",
        "- D. 0.6987\n"
      ],
      "metadata": {
        "id": "GojJnrpv7JWt"
      }
    },
    {
      "cell_type": "code",
      "source": [
        "1 - st.norm.cdf(50,45,8)"
      ],
      "metadata": {
        "colab": {
          "base_uri": "https://localhost:8080/"
        },
        "id": "5-dVSosx4WoV",
        "outputId": "9a3ae625-615d-4c64-a8ac-ddc864cd9a23"
      },
      "execution_count": 2,
      "outputs": [
        {
          "output_type": "execute_result",
          "data": {
            "text/plain": [
              "0.26598552904870054"
            ]
          },
          "metadata": {},
          "execution_count": 2
        }
      ]
    },
    {
      "cell_type": "markdown",
      "source": [
        "# B. **0.2676**"
      ],
      "metadata": {
        "id": "UdGYhsqQCWcn"
      }
    },
    {
      "cell_type": "markdown",
      "source": [
        "# **2. The current age (in years) of 400 clerical employees at an insurance claims processing center is normally distributed with mean m = 38 and Standard deviation s =6. For each statement below, please specify True/False. If false, briefly explain why.**\n",
        "\n",
        "- **More employees at the processing center are older than 44 than between 38 and 44**"
      ],
      "metadata": {
        "id": "eCcrSOVD0wFX"
      }
    },
    {
      "cell_type": "code",
      "source": [
        "p44 = 1-st.norm.cdf(44,38,6)\n",
        "p44"
      ],
      "metadata": {
        "colab": {
          "base_uri": "https://localhost:8080/"
        },
        "id": "CQ81TD8613v6",
        "outputId": "d0bb09ec-f2fe-41db-de77-8469c3a6fe61"
      },
      "execution_count": 3,
      "outputs": [
        {
          "output_type": "execute_result",
          "data": {
            "text/plain": [
              "0.15865525393145707"
            ]
          },
          "metadata": {},
          "execution_count": 3
        }
      ]
    },
    {
      "cell_type": "code",
      "source": [
        "p38_44 = st.norm.cdf(44,38,6)-st.norm.cdf(38,38,6)\n",
        "p38_44"
      ],
      "metadata": {
        "colab": {
          "base_uri": "https://localhost:8080/"
        },
        "id": "o7u5_vng2QUw",
        "outputId": "33d66197-5b7f-4be3-9f6b-68d5ca07cd10"
      },
      "execution_count": 4,
      "outputs": [
        {
          "output_type": "execute_result",
          "data": {
            "text/plain": [
              "0.3413447460685429"
            ]
          },
          "metadata": {},
          "execution_count": 4
        }
      ]
    },
    {
      "cell_type": "code",
      "source": [
        "p44 > p38_44"
      ],
      "metadata": {
        "colab": {
          "base_uri": "https://localhost:8080/"
        },
        "id": "NGJy5J4s3Fud",
        "outputId": "ef615427-a267-404b-93db-c077e20e035e"
      },
      "execution_count": 5,
      "outputs": [
        {
          "output_type": "execute_result",
          "data": {
            "text/plain": [
              "False"
            ]
          },
          "metadata": {},
          "execution_count": 5
        }
      ]
    },
    {
      "cell_type": "markdown",
      "source": [
        "# **4. Let X ~ N(100, 202). Find two values, a and b, symmetric about the mean, such that the probability of the random variable taking a value between them is 0.99.**\n",
        "\n",
        "- A. 90.5, 105.9\n",
        "\n",
        "- B. 80.2, 119.8\n",
        "\n",
        "- C. 22, 78\n",
        "\n",
        "- D. 48.5, 151.5\n",
        "\n",
        "- E. 90.1, 109.9"
      ],
      "metadata": {
        "id": "wMVQGP5b8FEx"
      }
    },
    {
      "cell_type": "code",
      "source": [
        "100 - st.norm.ppf(0.995)*20"
      ],
      "metadata": {
        "colab": {
          "base_uri": "https://localhost:8080/"
        },
        "id": "pT9TH0o7_-Wq",
        "outputId": "bd2b8fcf-455f-4d81-cc1f-b7c502f9cc16"
      },
      "execution_count": 6,
      "outputs": [
        {
          "output_type": "execute_result",
          "data": {
            "text/plain": [
              "48.48341392902199"
            ]
          },
          "metadata": {},
          "execution_count": 6
        }
      ]
    },
    {
      "cell_type": "code",
      "source": [
        "100 + st.norm.ppf(0.995)*20"
      ],
      "metadata": {
        "colab": {
          "base_uri": "https://localhost:8080/"
        },
        "id": "41DG0ScaAPQm",
        "outputId": "b17f2b36-7d74-4c2e-f86b-725c328a3c22"
      },
      "execution_count": 7,
      "outputs": [
        {
          "output_type": "execute_result",
          "data": {
            "text/plain": [
              "151.516586070978"
            ]
          },
          "metadata": {},
          "execution_count": 7
        }
      ]
    },
    {
      "cell_type": "markdown",
      "source": [
        "# D.**48.5, 151.5**"
      ],
      "metadata": {
        "id": "vaAMiUcMAiUe"
      }
    },
    {
      "cell_type": "markdown",
      "source": [
        "# **5. Consider a company that has two different divisions. The annual profits from the two divisions are independent and have distributions Profit1 ~ N(5, 3^2) and Profit2 ~ N(7, 4^2) respectively. Both the profits are in Million Dollar. Answer the following questions about the total profit of the company in Rupees. Assume that 1 Dollar = Rs. 45**\n",
        "\n",
        "- **A. Specify a Rupee range (centered on the mean) such that it contains 95% probability for the annual profit of the company.**"
      ],
      "metadata": {
        "id": "Plu6bUw3KS_K"
      }
    },
    {
      "cell_type": "markdown",
      "source": [
        "Profit1 + Profit2 = N(5, 3^2) + N(7, 4^2)\n",
        "\n",
        "Annual Profit = N(12, 5^2)"
      ],
      "metadata": {
        "id": "bc66qV2KKzH2"
      }
    },
    {
      "cell_type": "code",
      "source": [
        "45*abs(12 - st.norm.ppf(0.975)*5)"
      ],
      "metadata": {
        "colab": {
          "base_uri": "https://localhost:8080/"
        },
        "id": "woDgU1cvJ8f-",
        "outputId": "c2a01fab-6d24-4d50-ba3e-cd3c0c01fd1e"
      },
      "execution_count": 8,
      "outputs": [
        {
          "output_type": "execute_result",
          "data": {
            "text/plain": [
              "99.00810347848788"
            ]
          },
          "metadata": {},
          "execution_count": 8
        }
      ]
    },
    {
      "cell_type": "code",
      "source": [
        "45*abs(12 + st.norm.ppf(0.975)*5)"
      ],
      "metadata": {
        "colab": {
          "base_uri": "https://localhost:8080/"
        },
        "id": "yxxwKgsHM4ll",
        "outputId": "9d882b65-3988-4222-c62f-eaadad471732"
      },
      "execution_count": 9,
      "outputs": [
        {
          "output_type": "execute_result",
          "data": {
            "text/plain": [
              "980.9918965215121"
            ]
          },
          "metadata": {},
          "execution_count": 9
        }
      ]
    },
    {
      "cell_type": "markdown",
      "source": [
        "- **B. Specify the 5th percentile of profit (in Rupees) for the company**"
      ],
      "metadata": {
        "id": "qHaa1NyFNJeO"
      }
    },
    {
      "cell_type": "code",
      "source": [
        "45*abs(12 + st.norm.ppf(0.05)*5)"
      ],
      "metadata": {
        "colab": {
          "base_uri": "https://localhost:8080/"
        },
        "id": "pO1DgzFiNRMU",
        "outputId": "5d09b0c8-b395-43ab-fc47-fc5e336782ad"
      },
      "execution_count": 10,
      "outputs": [
        {
          "output_type": "execute_result",
          "data": {
            "text/plain": [
              "169.90793393591858"
            ]
          },
          "metadata": {},
          "execution_count": 10
        }
      ]
    },
    {
      "cell_type": "code",
      "source": [],
      "metadata": {
        "id": "5Z75J053uCAg"
      },
      "execution_count": null,
      "outputs": []
    }
  ]
}